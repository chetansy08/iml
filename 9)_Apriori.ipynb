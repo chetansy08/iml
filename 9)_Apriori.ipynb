{
  "nbformat": 4,
  "nbformat_minor": 0,
  "metadata": {
    "colab": {
      "provenance": [],
      "authorship_tag": "ABX9TyOiJrKVT1pB9FSMR5PNjWt7",
      "include_colab_link": true
    },
    "kernelspec": {
      "name": "python3",
      "display_name": "Python 3"
    },
    "language_info": {
      "name": "python"
    }
  },
  "cells": [
    {
      "cell_type": "markdown",
      "metadata": {
        "id": "view-in-github",
        "colab_type": "text"
      },
      "source": [
        "<a href=\"https://colab.research.google.com/github/chetansy08/iml/blob/main/9)_Apriori.ipynb\" target=\"_parent\"><img src=\"https://colab.research.google.com/assets/colab-badge.svg\" alt=\"Open In Colab\"/></a>"
      ]
    },
    {
      "cell_type": "markdown",
      "source": [
        "9) Apriori"
      ],
      "metadata": {
        "id": "pfS4ZWsQTtky"
      }
    },
    {
      "cell_type": "code",
      "execution_count": 1,
      "metadata": {
        "colab": {
          "base_uri": "https://localhost:8080/"
        },
        "id": "-_PdxjtaTrka",
        "outputId": "492ed9b6-ffa2-4cf3-d708-48f60c84c474"
      },
      "outputs": [
        {
          "output_type": "stream",
          "name": "stdout",
          "text": [
            "Frequent Itemsets:\n",
            "     support                 itemsets\n",
            "0       1.0                  (bread)\n",
            "1       0.6                 (butter)\n",
            "2       0.4                 (cheese)\n",
            "3       0.4                   (eggs)\n",
            "4       0.8                   (milk)\n",
            "5       0.6          (bread, butter)\n",
            "6       0.4          (bread, cheese)\n",
            "7       0.4            (bread, eggs)\n",
            "8       0.8            (bread, milk)\n",
            "9       0.4         (cheese, butter)\n",
            "10      0.4           (milk, butter)\n",
            "11      0.4             (milk, eggs)\n",
            "12      0.4  (bread, butter, cheese)\n",
            "13      0.4    (bread, milk, butter)\n",
            "14      0.4      (bread, milk, eggs)\n"
          ]
        }
      ],
      "source": [
        "from mlxtend.frequent_patterns import apriori\n",
        "from mlxtend.preprocessing import TransactionEncoder\n",
        "import pandas as pd\n",
        "\n",
        "# Example transaction data\n",
        "transactions = [\n",
        "    ['bread', 'milk', 'eggs'],\n",
        "    ['bread', 'butter', 'cheese'],\n",
        "    ['milk', 'butter', 'bread', 'cheese'],\n",
        "    ['eggs', 'bread', 'milk'],\n",
        "    ['butter', 'milk', 'bread']\n",
        "]\n",
        "\n",
        "# Convert the transaction data to a one-hot encoded DataFrame\n",
        "te = TransactionEncoder()\n",
        "te_ary = te.fit(transactions).transform(transactions)\n",
        "df = pd.DataFrame(te_ary, columns=te.columns_)\n",
        "\n",
        "# Apply Apriori algorithm\n",
        "frequent_itemsets = apriori(df, min_support=0.4, use_colnames=True)\n",
        "\n",
        "# Display the frequent itemsets\n",
        "print(\"Frequent Itemsets:\\n\", frequent_itemsets)\n"
      ]
    }
  ]
}